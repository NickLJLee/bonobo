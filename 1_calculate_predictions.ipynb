{
 "cells": [
  {
   "cell_type": "code",
   "execution_count": 2,
   "metadata": {},
   "outputs": [],
   "source": [
    "from torch.utils.data import DataLoader\n",
    "import numpy as np\n",
    "import pandas as pd\n",
    "import os\n",
    "import pickle\n",
    "from torchvision import transforms\n",
    "import pytorch_lightning as pl\n",
    "import torch\n",
    "\n",
    "# load own code\n",
    "import sys\n",
    "sys.path.append('../')\n",
    "from sleeplib.Resnet_15.model import FineTuning\n",
    "from sleeplib.datasets import BonoboDataset, ContinousToSnippetDataset\n",
    "# this holds all the configuration parameters\n",
    "from sleeplib.config import Config\n",
    "import pickle\n",
    "\n",
    "from pytorch_lightning.callbacks import ModelCheckpoint\n",
    "from torch.utils.data import DataLoader\n",
    "from torchvision import transforms\n",
    "\n",
    "from sleeplib.datasets import BonoboDataset , ContinousToSnippetDataset\n",
    "from sleeplib.montages import CDAC_bipolar_montage,CDAC_common_average_montage,CDAC_combine_montage\n",
    "from sleeplib.transforms import cut_and_jitter, CDAC_bipolar_signal_flip,CDAC_monopolar_signal_flip\n"
   ]
  },
  {
   "cell_type": "code",
   "execution_count": 3,
   "metadata": {},
   "outputs": [
    {
     "name": "stdout",
     "output_type": "stream",
     "text": [
      "there are 3100 test samples\n"
     ]
    }
   ],
   "source": [
    "path_model = 'Models/YOUR_MODEL_NAME'\n",
    "# load config file\n",
    "with open(path_model+'/config.pkl', 'rb') as f:\n",
    "   config = pickle.load(f)\n",
    "# load dataset\n",
    "df = pd.read_csv(config.PATH_LUT_BONOBO,sep=';')\n",
    "# fraction filter\n",
    "frac_filter = (df['fraction_of_yes'] > 6/8) | (df['fraction_of_yes'] < 2/8)\n",
    "mode_filter = df['Mode'] == 'Test'\n",
    "extreme_quality_filter = df['total_votes_received'] >= 8\n",
    "quality_filter = df['total_votes_received'] > 2\n",
    "\n",
    "test_df = df[mode_filter]\n",
    "print(f'there are {len(test_df)} test samples')"
   ]
  },
  {
   "cell_type": "code",
   "execution_count": 4,
   "metadata": {},
   "outputs": [],
   "source": [
    "# set up dataloader to predict all samples in test dataset\n",
    "transform_val = transforms.Compose([cut_and_jitter(windowsize=config.WINDOWSIZE,max_offset=0,Fq=config.FQ)])\n",
    "bipolar_montage = CDAC_bipolar_montage()\n",
    "common_average_montage = CDAC_common_average_montage()\n",
    "test_dataset = BonoboDataset(test_df, config.PATH_FILES_BONOBO, transform=transform_val,bipolar_montage=bipolar_montage, common_average_montage=common_average_montage)\n",
    "test_dataloader = DataLoader(test_dataset, batch_size=32, shuffle=False, num_workers=os.cpu_count())\n"
   ]
  },
  {
   "cell_type": "code",
   "execution_count": 5,
   "metadata": {},
   "outputs": [
    {
     "name": "stdout",
     "output_type": "stream",
     "text": [
      "torch.Size([128, 18, 128])\n",
      "tensor([0, 0, 0, 0, 0, 0, 0, 0, 0, 0, 0, 0, 0, 0, 0, 0, 0, 0, 0, 0, 0, 0, 0, 0,\n",
      "        0, 0, 0, 0, 0, 0, 0, 0, 0, 0, 0, 0, 0, 0, 0, 0, 0, 0, 0, 0, 0, 0, 0, 0,\n",
      "        0, 0, 0, 0, 0, 0, 0, 0, 0, 0, 0, 0, 0, 0, 0, 0, 0, 0, 0, 0, 0, 0, 0, 0,\n",
      "        0, 0, 0, 0, 0, 0, 0, 0, 0, 0, 0, 0, 0, 0, 0, 0, 0, 0, 0, 0, 0, 0, 0, 0,\n",
      "        0, 0, 0, 0, 0, 0, 0, 0, 0, 0, 0, 0, 0, 0, 0, 0, 0, 0, 0, 0, 0, 0, 0, 0,\n",
      "        0, 0, 0, 0, 0, 0, 0, 0])\n"
     ]
    }
   ],
   "source": [
    "Bonobo_con = ContinousToSnippetDataset('/home/ubuntu/data/Bonobo01742_0.mat',montage=montage)\n",
    "con_dataloader = DataLoader(Bonobo_con, batch_size=config.BATCH_SIZE,shuffle=False,num_workers=os.cpu_count())\n",
    "\n",
    "for x, y in con_dataloader:\n",
    "    with torch.no_grad():\n",
    "        print(x.shape)\n",
    "        print(y)\n",
    "        break"
   ]
  },
  {
   "cell_type": "code",
   "execution_count": 6,
   "metadata": {},
   "outputs": [
    {
     "name": "stderr",
     "output_type": "stream",
     "text": [
      "GPU available: True (cuda), used: True\n",
      "TPU available: False, using: 0 TPU cores\n",
      "IPU available: False, using: 0 IPUs\n",
      "HPU available: False, using: 0 HPUs\n"
     ]
    }
   ],
   "source": [
    "# load pretrained model\n",
    "model = FineTuning.load_from_checkpoint('/home/ubuntu/code/Spike_transformer/Models/YOUR_MODEL_NAME/weights-v3.ckpt',\n",
    "                                        lr=config.LR,\n",
    "                                        head_dropout=config.HEAD_DROPOUT,\n",
    "                                        n_channels=config.N_CHANNELS,\n",
    "                                        n_fft=config.N_FFT,\n",
    "                                        hop_length=config.HOP_LENGTH,\n",
    "                                       )\n",
    "                                        #map_location=torch.device('cpu') add this if running on CPU machine\n",
    "# init trainer\n",
    "trainer = pl.Trainer(fast_dev_run=False,enable_progress_bar=False)"
   ]
  },
  {
   "cell_type": "code",
   "execution_count": 7,
   "metadata": {},
   "outputs": [
    {
     "name": "stderr",
     "output_type": "stream",
     "text": [
      "LOCAL_RANK: 0 - CUDA_VISIBLE_DEVICES: [0]\n"
     ]
    }
   ],
   "source": [
    "# predict all samples\n",
    "preds = trainer.predict(model,test_dataloader)\n",
    "preds = np.concatenate(preds)\n"
   ]
  },
  {
   "cell_type": "code",
   "execution_count": 8,
   "metadata": {},
   "outputs": [],
   "source": [
    "# store results\n",
    "results = test_df[['event_file','fraction_of_yes','total_votes_received','Mode']].copy()\n",
    "results['preds'] = preds\n",
    "results.to_csv(path_model+'/predictions.csv',index=False)"
   ]
  },
  {
   "cell_type": "code",
   "execution_count": 8,
   "metadata": {},
   "outputs": [],
   "source": [
    "# store results\n",
    "'''\n",
    "\n",
    "preds = trainer.predict(model,con_dataloader)\n",
    "preds = np.concatenate(preds)\n",
    "\n",
    "preds = pd.DataFrame(preds)\n",
    "preds.to_csv(path_model+'/predictions.csv',index=False)"
   ]
  },
  {
   "cell_type": "code",
   "execution_count": 4,
   "metadata": {},
   "outputs": [
    {
     "name": "stdout",
     "output_type": "stream",
     "text": [
      "1\n",
      "2\n"
     ]
    }
   ],
   "source": [
    "import scipy.io\n",
    "import pandas as pd\n",
    "\n",
    "# 加载 .mat 文件\n",
    "mat_file_path = '/home/ubuntu/data/Bonobo_scores_afterRound3_spread_2023Jan31.mat'\n",
    "mat_data = scipy.io.loadmat(mat_file_path)\n",
    "print('1')\n",
    "# 从 .mat 数据中提取一个变量\n",
    "variable_name = 'your_variable_name'\n",
    "data = mat_data['lut_pseudo']\n",
    "\n",
    "# 将数据转换为 DataFrame\n",
    "data_frame = pd.DataFrame(data)\n",
    "print('2')\n",
    "\n",
    "# 保存为 CSV 文件\n",
    "csv_file_path = '/home/ubuntu/data/pseudo.csv'\n",
    "data_frame.to_csv(csv_file_path, index=False)\n"
   ]
  },
  {
   "cell_type": "code",
   "execution_count": 22,
   "metadata": {},
   "outputs": [
    {
     "data": {
      "image/png": "[encoded data removed]",
      "text/plain": [
       "<Figure size 640x480 with 1 Axes>"
      ]
     },
     "metadata": {},
     "output_type": "display_data"
    },
    {
     "data": {
      "text/plain": [
       "count    771512.000000\n",
       "mean          0.412493\n",
       "std           0.384477\n",
       "min           0.000000\n",
       "25%           0.000000\n",
       "50%           0.375000\n",
       "75%           0.750000\n",
       "max           1.000000\n",
       "Name: 7, dtype: float64"
      ]
     },
     "execution_count": 22,
     "metadata": {},
     "output_type": "execute_result"
    }
   ],
   "source": [
    "import pandas as pd\n",
    "# Importing necessary libraries for plotting\n",
    "import matplotlib.pyplot as plt\n",
    "import seaborn as sns\n",
    "\n",
    "# 指定CSV文件的路径\n",
    "csv_file_path = '/home/ubuntu/data/pseudo.csv'\n",
    "\n",
    "# 读取CSV文件\n",
    "data = pd.read_csv(csv_file_path)\n",
    "\n",
    "second_last_column = data.iloc[:, -2]\n",
    "\n",
    "# 由于该列看起来包含在双重列表中，我们可能需要进行一些转换\n",
    "second_last_column_values = second_last_column.apply(lambda x: eval(x)[0][0])\n",
    "\n",
    "\n",
    "# Plotting the histogram for the 'preds' column\n",
    "plt.figure\n",
    "sns.histplot(second_last_column_values, bins=30, kde=True)\n",
    "plt.title('Distribution of \"frac_of_yes\"')\n",
    "plt.xlabel('frac_of_yes')\n",
    "plt.ylabel('Frequency')\n",
    "plt.show()\n",
    "\n",
    "# Providing summary statistics for the 'preds' column\n",
    "summary_statistics = second_last_column_values.describe()\n",
    "summary_statistics"
   ]
  },
  {
   "cell_type": "code",
   "execution_count": 15,
   "metadata": {},
   "outputs": [
    {
     "data": {
      "text/plain": [
       "count     771512\n",
       "unique        59\n",
       "top        [[0]]\n",
       "freq      269279\n",
       "Name: 7, dtype: object"
      ]
     },
     "execution_count": 15,
     "metadata": {},
     "output_type": "execute_result"
    }
   ],
   "source": [
    "summary_statistics = data.iloc[:, 7].describe()\n",
    "summary_statistics"
   ]
  },
  {
   "cell_type": "code",
   "execution_count": 24,
   "metadata": {},
   "outputs": [
    {
     "data": {
      "text/html": [
       "<div>\n",
       "<style scoped>\n",
       "    .dataframe tbody tr th:only-of-type {\n",
       "        vertical-align: middle;\n",
       "    }\n",
       "\n",
       "    .dataframe tbody tr th {\n",
       "        vertical-align: top;\n",
       "    }\n",
       "\n",
       "    .dataframe thead th {\n",
       "        text-align: right;\n",
       "    }\n",
       "</style>\n",
       "<table border=\"1\" class=\"dataframe\">\n",
       "  <thead>\n",
       "    <tr style=\"text-align: right;\">\n",
       "      <th></th>\n",
       "      <th>Word</th>\n",
       "      <th>Frequency</th>\n",
       "    </tr>\n",
       "  </thead>\n",
       "  <tbody>\n",
       "    <tr>\n",
       "      <th>0</th>\n",
       "      <td>mbw</td>\n",
       "      <td>771512</td>\n",
       "    </tr>\n",
       "    <tr>\n",
       "      <th>3</th>\n",
       "      <td>jon</td>\n",
       "      <td>680472</td>\n",
       "    </tr>\n",
       "    <tr>\n",
       "      <th>6</th>\n",
       "      <td>ioannis</td>\n",
       "      <td>502269</td>\n",
       "    </tr>\n",
       "    <tr>\n",
       "      <th>7</th>\n",
       "      <td>marcus</td>\n",
       "      <td>502269</td>\n",
       "    </tr>\n",
       "    <tr>\n",
       "      <th>2</th>\n",
       "      <td>jj</td>\n",
       "      <td>401494</td>\n",
       "    </tr>\n",
       "  </tbody>\n",
       "</table>\n",
       "</div>"
      ],
      "text/plain": [
       "      Word  Frequency\n",
       "0      mbw     771512\n",
       "3      jon     680472\n",
       "6  ioannis     502269\n",
       "7   marcus     502269\n",
       "2       jj     401494"
      ]
     },
     "execution_count": 24,
     "metadata": {},
     "output_type": "execute_result"
    }
   ],
   "source": [
    "from collections import Counter\n",
    "import re\n",
    "\n",
    "third_last_column = data.iloc[:, -3]\n",
    "\n",
    "# 定义一个函数，用于从字符串中提取所有的单词\n",
    "def extract_words(text):\n",
    "    # 使用正则表达式匹配单词\n",
    "    return re.findall(r\"'(\\w+)'\", text)\n",
    "\n",
    "# 应用该函数提取倒数第三列中的所有单词\n",
    "words_third_last_column = third_last_column.apply(extract_words)\n",
    "\n",
    "# 合并所有的单词列表并统计频率\n",
    "words_frequency = Counter([word for sublist in words_third_last_column for word in sublist])\n",
    "\n",
    "# 将频率转换为 DataFrame，以便更好地展示\n",
    "words_frequency_df = pd.DataFrame.from_dict(words_frequency, orient='index', columns=['Frequency']).reset_index()\n",
    "words_frequency_df.rename(columns={'index': 'Word'}, inplace=True)\n",
    "\n",
    "# 按频率降序排列\n",
    "words_frequency_df = words_frequency_df.sort_values(by='Frequency', ascending=False)\n",
    "\n",
    "# 显示前几个单词及其频率\n",
    "words_frequency_df.head()\n"
   ]
  },
  {
   "cell_type": "code",
   "execution_count": 25,
   "metadata": {},
   "outputs": [
    {
     "data": {
      "text/html": [
       "<div>\n",
       "<style scoped>\n",
       "    .dataframe tbody tr th:only-of-type {\n",
       "        vertical-align: middle;\n",
       "    }\n",
       "\n",
       "    .dataframe tbody tr th {\n",
       "        vertical-align: top;\n",
       "    }\n",
       "\n",
       "    .dataframe thead th {\n",
       "        text-align: right;\n",
       "    }\n",
       "</style>\n",
       "<table border=\"1\" class=\"dataframe\">\n",
       "  <thead>\n",
       "    <tr style=\"text-align: right;\">\n",
       "      <th></th>\n",
       "      <th>Word</th>\n",
       "      <th>Frequency</th>\n",
       "    </tr>\n",
       "  </thead>\n",
       "  <tbody>\n",
       "    <tr>\n",
       "      <th>0</th>\n",
       "      <td>mbw</td>\n",
       "      <td>771512</td>\n",
       "    </tr>\n",
       "    <tr>\n",
       "      <th>3</th>\n",
       "      <td>jon</td>\n",
       "      <td>680472</td>\n",
       "    </tr>\n",
       "    <tr>\n",
       "      <th>6</th>\n",
       "      <td>ioannis</td>\n",
       "      <td>502269</td>\n",
       "    </tr>\n",
       "    <tr>\n",
       "      <th>7</th>\n",
       "      <td>marcus</td>\n",
       "      <td>502269</td>\n",
       "    </tr>\n",
       "    <tr>\n",
       "      <th>2</th>\n",
       "      <td>jj</td>\n",
       "      <td>401494</td>\n",
       "    </tr>\n",
       "    <tr>\n",
       "      <th>1</th>\n",
       "      <td>fabio</td>\n",
       "      <td>401353</td>\n",
       "    </tr>\n",
       "    <tr>\n",
       "      <th>4</th>\n",
       "      <td>alice</td>\n",
       "      <td>371754</td>\n",
       "    </tr>\n",
       "    <tr>\n",
       "      <th>5</th>\n",
       "      <td>aline</td>\n",
       "      <td>371754</td>\n",
       "    </tr>\n",
       "    <tr>\n",
       "      <th>8</th>\n",
       "      <td>syd</td>\n",
       "      <td>371754</td>\n",
       "    </tr>\n",
       "    <tr>\n",
       "      <th>9</th>\n",
       "      <td>doug</td>\n",
       "      <td>371754</td>\n",
       "    </tr>\n",
       "    <tr>\n",
       "      <th>10</th>\n",
       "      <td>hibahaider</td>\n",
       "      <td>130863</td>\n",
       "    </tr>\n",
       "  </tbody>\n",
       "</table>\n",
       "</div>"
      ],
      "text/plain": [
       "          Word  Frequency\n",
       "0          mbw     771512\n",
       "3          jon     680472\n",
       "6      ioannis     502269\n",
       "7       marcus     502269\n",
       "2           jj     401494\n",
       "1        fabio     401353\n",
       "4        alice     371754\n",
       "5        aline     371754\n",
       "8          syd     371754\n",
       "9         doug     371754\n",
       "10  hibahaider     130863"
      ]
     },
     "execution_count": 25,
     "metadata": {},
     "output_type": "execute_result"
    }
   ],
   "source": [
    "words_frequency_df"
   ]
  },
  {
   "cell_type": "code",
   "execution_count": null,
   "metadata": {},
   "outputs": [],
   "source": []
  }
 ],
 "metadata": {
  "kernelspec": {
   "display_name": "Python 3 (ipykernel)",
   "language": "python",
   "name": "python3"
  },
  "language_info": {
   "codemirror_mode": {
    "name": "ipython",
    "version": 3
   },
   "file_extension": ".py",
   "mimetype": "text/x-python",
   "name": "python",
   "nbconvert_exporter": "python",
   "pygments_lexer": "ipython3",
   "version": "3.8.17"
  }
 },
 "nbformat": 4,
 "nbformat_minor": 4
}
