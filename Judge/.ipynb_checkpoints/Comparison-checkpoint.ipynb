{
 "cells": [
  {
   "cell_type": "code",
   "execution_count": 41,
   "metadata": {},
   "outputs": [],
   "source": [
    "import os \n",
    "import pandas as pd"
   ]
  },
  {
   "cell_type": "code",
   "execution_count": 42,
   "metadata": {},
   "outputs": [],
   "source": [
    "models = os.listdir('../Backstage/')"
   ]
  },
  {
   "cell_type": "code",
   "execution_count": 45,
   "metadata": {},
   "outputs": [],
   "source": [
    "results = []\n",
    "for model in models:\n",
    "    model_results = pd.read_csv('../Backstage/'+model+'/Results/results.txt',sep=':',header=None)\n",
    "    model_results.columns = ['score','value']\n",
    "    model_results['model'] = model\n",
    "    results.append(model_results)\n",
    "results = pd.concat(results)"
   ]
  },
  {
   "cell_type": "code",
   "execution_count": 46,
   "metadata": {},
   "outputs": [
    {
     "name": "stdout",
     "output_type": "stream",
     "text": [
      "brier_score\n",
      "         score     value             model\n",
      "0  brier_score  0.220558              test\n",
      "0  brier_score  0.162056  SpikeTransformer\n",
      "\n",
      "\n",
      "Easy AUC\n",
      "      score     value             model\n",
      "1  Easy AUC  0.951048              test\n",
      "1  Easy AUC  0.931048  SpikeTransformer\n",
      "\n",
      "\n",
      "Modified AUC\n",
      "          score     value             model\n",
      "2  Modified AUC  0.996122  SpikeTransformer\n",
      "2  Modified AUC  0.919612              test\n",
      "\n",
      "\n",
      "PR AUC\n",
      "    score     value             model\n",
      "3  PR AUC  0.967573  SpikeTransformer\n",
      "3  PR AUC  0.962757              test\n",
      "\n",
      "\n"
     ]
    }
   ],
   "source": [
    "for score in (results.score.unique()):\n",
    "    score_comparison = results[results.score == score].sort_values(by='value', ascending=False)\n",
    "    print(score)\n",
    "    print(score_comparison)\n",
    "    print('\\n')"
   ]
  },
  {
   "cell_type": "code",
   "execution_count": null,
   "metadata": {},
   "outputs": [],
   "source": []
  }
 ],
 "metadata": {
  "kernelspec": {
   "display_name": "pytorch",
   "language": "python",
   "name": "python3"
  },
  "language_info": {
   "codemirror_mode": {
    "name": "ipython",
    "version": 3
   },
   "file_extension": ".py",
   "mimetype": "text/x-python",
   "name": "python",
   "nbconvert_exporter": "python",
   "pygments_lexer": "ipython3",
   "version": "3.10.11"
  },
  "orig_nbformat": 4
 },
 "nbformat": 4,
 "nbformat_minor": 2
}
