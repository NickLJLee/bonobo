{
 "cells": [
  {
   "cell_type": "code",
   "execution_count": 2,
   "metadata": {},
   "outputs": [],
   "source": [
    "import pandas as pd\n",
    "import wandb\n",
    "import torch\n",
    "import os\n",
    "import matplotlib.pyplot as plt\n",
    "from sklearn.metrics import roc_curve, auc\n",
    "\n",
    "import pytorch_lightning as pl\n",
    "from pytorch_lightning.loggers import WandbLogger\n",
    "from pytorch_lightning.callbacks.early_stopping import EarlyStopping\n",
    "from pytorch_lightning.callbacks import ModelCheckpoint\n",
    "from torch.utils.data import DataLoader\n",
    "from torchvision import transforms\n",
    "import torch\n",
    "# load own code\n",
    "import sys\n",
    "sys.path.append('../')\n",
    "from sleeplib.Resnet_15.model import FineTuning\n",
    "from sleeplib.datasets import BonoboDataset , ContinousToSnippetDataset\n",
    "from sleeplib.montages import CDAC_bipolar_montage,CDAC_common_average_montage,CDAC_combine_montage\n",
    "from sleeplib.transforms import cut_and_jitter, CDAC_bipolar_signal_flip,CDAC_monopolar_signal_flip\n",
    "# this holds all the configuration parameters\n",
    "from sleeplib.config import Config\n",
    "import pickle\n"
   ]
  },
  {
   "cell_type": "code",
   "execution_count": 3,
   "metadata": {},
   "outputs": [
    {
     "name": "stdout",
     "output_type": "stream",
     "text": [
      "THIS CONFIG FILE CONTAINS THE FOLLOWING PARAMETERS :\n",
      "\n",
      "PATH_FILES_BONOBO /home/ubuntu/data/bonobo/npy1.5/\n",
      "PATH_LUT_BONOBO /home/ubuntu/code/Spike_37chan/pseudo_test.csv\n",
      "PATH_CONTINOUS_EEG /bdsp/staging/Bonobo/Datasets/continuousEEG\n",
      "FQ 128\n",
      "MONTAGE bipolar\n",
      "WINDOWSIZE 1\n",
      "N_FFT 128\n",
      "HOP_LENGTH 64\n",
      "HEAD_DROPOUT 0.3\n",
      "EMB_SIZE 256\n",
      "HEADS 8\n",
      "DEPTH 4\n",
      "N_CHANNELS 37\n",
      "BATCH_SIZE 256\n",
      "LR 0.01\n"
     ]
    }
   ],
   "source": [
    "# define model name and path\n",
    "model_path = 'Models/YOUR_MODEL_NAME'\n",
    "# load config and show all default parameters\n",
    "config = Config()\n",
    "config.print_config()\n",
    "# the config can be changed by setting config.PARAMETER = VALUE\n",
    "\n",
    "# save config to model_path using pickle\n",
    "with open(os.path.join(model_path, 'config.pkl'), 'wb') as f:\n",
    "    pickle.dump(config, f)"
   ]
  },
  {
   "cell_type": "code",
   "execution_count": 16,
   "metadata": {},
   "outputs": [],
   "source": [
    "# load dataset\n",
    "df = pd.read_csv(config.PATH_LUT_BONOBO,sep=',')\n",
    "# add transformations\n",
    "transform_train_bipolar = transforms.Compose([cut_and_jitter(windowsize=config.WINDOWSIZE,max_offset=0.1,Fq=config.FQ), CDAC_bipolar_signal_flip(p=1)])\n",
    "transform_train_common_average = transforms.Compose([cut_and_jitter(windowsize=config.WINDOWSIZE,max_offset=0.1,Fq=config.FQ), CDAC_monopolar_signal_flip(p=1)])\n",
    "transform_val = transforms.Compose([cut_and_jitter(windowsize=config.WINDOWSIZE,max_offset=0,Fq=config.FQ)])#,CDAC_signal_flip(p=0)])\n",
    "transform_val = transforms.Compose([cut_and_jitter(windowsize=config.WINDOWSIZE,max_offset=0,Fq=config.FQ)])#,CDAC_signal_flip(p=0)])\n",
    "\n",
    "# init datasets\n",
    "sub_df = df[df['total_votes_received']>2]\n",
    "train_df = sub_df[sub_df['Mode']=='Train'][:20]\n",
    "val_df = sub_df[sub_df['Mode']=='Val']\n",
    "\n",
    "# set up dataloaders\n",
    "bipolar_montage = CDAC_bipolar_montage()\n",
    "common_average_montage = CDAC_common_average_montage()\n",
    "combine_montage = CDAC_combine_montage()\n",
    "\n",
    "Bonobo_train = BonoboDataset(train_df, config.PATH_FILES_BONOBO, \n",
    "                             transform_train_bipolar=transform_train_bipolar,\n",
    "                             transform_train_common_average=transform_train_common_average, \n",
    "                             bipolar_montage=bipolar_montage, \n",
    "                             common_average_montage=common_average_montage,\n",
    "                             combine_montage = combine_montage\n",
    "                            )\n",
    "train_dataloader = DataLoader(Bonobo_train, batch_size=config.BATCH_SIZE, shuffle=True, num_workers=os.cpu_count())\n",
    "\n",
    "Bonobo_val = BonoboDataset(val_df, config.PATH_FILES_BONOBO, \n",
    "                           transform_train_bipolar=transform_val, \n",
    "                           transform_train_common_average=transform_val, \n",
    "                           bipolar_montage=bipolar_montage, \n",
    "                           common_average_montage=common_average_montage,\n",
    "                           combine_montage = combine_montage\n",
    "                          )\n",
    "val_dataloader = DataLoader(Bonobo_val, batch_size=config.BATCH_SIZE,shuffle=False,num_workers=os.cpu_count())\n",
    "\n",
    "#Bonobo_con = ContinousToSnippetDataset('/home/ubuntu/data/Bonobo01742_0.mat',montage=montage)#montage use numpy,so .mat maybe cannot do it\n",
    "#con_dataloader = DataLoader(Bonobo_con, batch_size=config.BATCH_SIZE,shuffle=False,num_workers=os.cpu_count())\n"
   ]
  },
  {
   "cell_type": "code",
   "execution_count": 8,
   "metadata": {},
   "outputs": [
    {
     "data": {
      "text/html": [
       "wandb version 0.15.8 is available!  To upgrade, please run:\n",
       " $ pip install wandb --upgrade"
      ],
      "text/plain": [
       "<IPython.core.display.HTML object>"
      ]
     },
     "metadata": {},
     "output_type": "display_data"
    },
    {
     "data": {
      "text/html": [
       "Tracking run with wandb version 0.15.7"
      ],
      "text/plain": [
       "<IPython.core.display.HTML object>"
      ]
     },
     "metadata": {},
     "output_type": "display_data"
    },
    {
     "data": {
      "text/html": [
       "Run data is saved locally in <code>/tmp/wandb/run-20230805_222058-9b1mxy1y</code>"
      ],
      "text/plain": [
       "<IPython.core.display.HTML object>"
      ]
     },
     "metadata": {},
     "output_type": "display_data"
    },
    {
     "data": {
      "text/html": [
       "Syncing run <strong><a href='https://wandb.ai/nickljlee/Spike_transformer/runs/9b1mxy1y' target=\"_blank\">wobbly-water-28</a></strong> to <a href='https://wandb.ai/nickljlee/Spike_transformer' target=\"_blank\">Weights & Biases</a> (<a href='https://wandb.me/run' target=\"_blank\">docs</a>)<br/>"
      ],
      "text/plain": [
       "<IPython.core.display.HTML object>"
      ]
     },
     "metadata": {},
     "output_type": "display_data"
    },
    {
     "data": {
      "text/html": [
       " View project at <a href='https://wandb.ai/nickljlee/Spike_transformer' target=\"_blank\">https://wandb.ai/nickljlee/Spike_transformer</a>"
      ],
      "text/plain": [
       "<IPython.core.display.HTML object>"
      ]
     },
     "metadata": {},
     "output_type": "display_data"
    },
    {
     "data": {
      "text/html": [
       " View run at <a href='https://wandb.ai/nickljlee/Spike_transformer/runs/9b1mxy1y' target=\"_blank\">https://wandb.ai/nickljlee/Spike_transformer/runs/9b1mxy1y</a>"
      ],
      "text/plain": [
       "<IPython.core.display.HTML object>"
      ]
     },
     "metadata": {},
     "output_type": "display_data"
    },
    {
     "name": "stderr",
     "output_type": "stream",
     "text": [
      "/opt/conda/envs/eeg/lib/python3.8/site-packages/pytorch_lightning/loggers/wandb.py:396: UserWarning: There is a wandb run already in progress and newly created instances of `WandbLogger` will reuse this run. If this is not desired, call `wandb.finish()` before instantiating `WandbLogger`.\n",
      "  rank_zero_warn(\n",
      "GPU available: True (cuda), used: True\n",
      "TPU available: False, using: 0 TPU cores\n",
      "IPU available: False, using: 0 IPUs\n",
      "HPU available: False, using: 0 HPUs\n",
      "/opt/conda/envs/eeg/lib/python3.8/site-packages/pytorch_lightning/loops/utilities.py:70: PossibleUserWarning: `max_epochs` was not set. Setting it to 1000 epochs. To train without an epoch limit, set `max_epochs=-1`.\n",
      "  rank_zero_warn(\n",
      "/opt/conda/envs/eeg/lib/python3.8/site-packages/pytorch_lightning/callbacks/model_checkpoint.py:615: UserWarning: Checkpoint directory /home/ubuntu/code/Spike_transformer/Models/YOUR_MODEL_NAME exists and is not empty.\n",
      "  rank_zero_warn(f\"Checkpoint directory {dirpath} exists and is not empty.\")\n",
      "LOCAL_RANK: 0 - CUDA_VISIBLE_DEVICES: [0]\n",
      "\n",
      "  | Name  | Type           | Params\n",
      "-----------------------------------------\n",
      "0 | model | Net1D          | 30.7 M\n",
      "1 | head  | RegressionHead | 129   \n",
      "-----------------------------------------\n",
      "30.7 M    Trainable params\n",
      "0         Non-trainable params\n",
      "30.7 M    Total params\n",
      "122.768   Total estimated model params size (MB)\n"
     ]
    },
    {
     "data": {
      "application/vnd.jupyter.widget-view+json": {
       "model_id": "",
       "version_major": 2,
       "version_minor": 0
      },
      "text/plain": [
       "Sanity Checking: 0it [00:00, ?it/s]"
      ]
     },
     "metadata": {},
     "output_type": "display_data"
    },
    {
     "data": {
      "application/vnd.jupyter.widget-view+json": {
       "model_id": "7144c1e0857f47219dd00ddbd1412646",
       "version_major": 2,
       "version_minor": 0
      },
      "text/plain": [
       "Training: 0it [00:00, ?it/s]"
      ]
     },
     "metadata": {},
     "output_type": "display_data"
    },
    {
     "data": {
      "application/vnd.jupyter.widget-view+json": {
       "model_id": "",
       "version_major": 2,
       "version_minor": 0
      },
      "text/plain": [
       "Validation: 0it [00:00, ?it/s]"
      ]
     },
     "metadata": {},
     "output_type": "display_data"
    },
    {
     "data": {
      "application/vnd.jupyter.widget-view+json": {
       "model_id": "",
       "version_major": 2,
       "version_minor": 0
      },
      "text/plain": [
       "Validation: 0it [00:00, ?it/s]"
      ]
     },
     "metadata": {},
     "output_type": "display_data"
    },
    {
     "data": {
      "application/vnd.jupyter.widget-view+json": {
       "model_id": "",
       "version_major": 2,
       "version_minor": 0
      },
      "text/plain": [
       "Validation: 0it [00:00, ?it/s]"
      ]
     },
     "metadata": {},
     "output_type": "display_data"
    },
    {
     "data": {
      "application/vnd.jupyter.widget-view+json": {
       "model_id": "",
       "version_major": 2,
       "version_minor": 0
      },
      "text/plain": [
       "Validation: 0it [00:00, ?it/s]"
      ]
     },
     "metadata": {},
     "output_type": "display_data"
    },
    {
     "data": {
      "application/vnd.jupyter.widget-view+json": {
       "model_id": "",
       "version_major": 2,
       "version_minor": 0
      },
      "text/plain": [
       "Validation: 0it [00:00, ?it/s]"
      ]
     },
     "metadata": {},
     "output_type": "display_data"
    },
    {
     "data": {
      "application/vnd.jupyter.widget-view+json": {
       "model_id": "",
       "version_major": 2,
       "version_minor": 0
      },
      "text/plain": [
       "Validation: 0it [00:00, ?it/s]"
      ]
     },
     "metadata": {},
     "output_type": "display_data"
    },
    {
     "name": "stderr",
     "output_type": "stream",
     "text": [
      "Trainer was signaled to stop but the required `min_epochs=20` or `min_steps=None` has not been met. Training will continue...\n"
     ]
    },
    {
     "data": {
      "application/vnd.jupyter.widget-view+json": {
       "model_id": "",
       "version_major": 2,
       "version_minor": 0
      },
      "text/plain": [
       "Validation: 0it [00:00, ?it/s]"
      ]
     },
     "metadata": {},
     "output_type": "display_data"
    },
    {
     "data": {
      "application/vnd.jupyter.widget-view+json": {
       "model_id": "",
       "version_major": 2,
       "version_minor": 0
      },
      "text/plain": [
       "Validation: 0it [00:00, ?it/s]"
      ]
     },
     "metadata": {},
     "output_type": "display_data"
    },
    {
     "data": {
      "application/vnd.jupyter.widget-view+json": {
       "model_id": "",
       "version_major": 2,
       "version_minor": 0
      },
      "text/plain": [
       "Validation: 0it [00:00, ?it/s]"
      ]
     },
     "metadata": {},
     "output_type": "display_data"
    },
    {
     "data": {
      "application/vnd.jupyter.widget-view+json": {
       "model_id": "",
       "version_major": 2,
       "version_minor": 0
      },
      "text/plain": [
       "Validation: 0it [00:00, ?it/s]"
      ]
     },
     "metadata": {},
     "output_type": "display_data"
    },
    {
     "data": {
      "application/vnd.jupyter.widget-view+json": {
       "model_id": "",
       "version_major": 2,
       "version_minor": 0
      },
      "text/plain": [
       "Validation: 0it [00:00, ?it/s]"
      ]
     },
     "metadata": {},
     "output_type": "display_data"
    },
    {
     "data": {
      "application/vnd.jupyter.widget-view+json": {
       "model_id": "",
       "version_major": 2,
       "version_minor": 0
      },
      "text/plain": [
       "Validation: 0it [00:00, ?it/s]"
      ]
     },
     "metadata": {},
     "output_type": "display_data"
    },
    {
     "data": {
      "application/vnd.jupyter.widget-view+json": {
       "model_id": "",
       "version_major": 2,
       "version_minor": 0
      },
      "text/plain": [
       "Validation: 0it [00:00, ?it/s]"
      ]
     },
     "metadata": {},
     "output_type": "display_data"
    },
    {
     "data": {
      "application/vnd.jupyter.widget-view+json": {
       "model_id": "",
       "version_major": 2,
       "version_minor": 0
      },
      "text/plain": [
       "Validation: 0it [00:00, ?it/s]"
      ]
     },
     "metadata": {},
     "output_type": "display_data"
    },
    {
     "data": {
      "application/vnd.jupyter.widget-view+json": {
       "model_id": "",
       "version_major": 2,
       "version_minor": 0
      },
      "text/plain": [
       "Validation: 0it [00:00, ?it/s]"
      ]
     },
     "metadata": {},
     "output_type": "display_data"
    },
    {
     "data": {
      "application/vnd.jupyter.widget-view+json": {
       "model_id": "",
       "version_major": 2,
       "version_minor": 0
      },
      "text/plain": [
       "Validation: 0it [00:00, ?it/s]"
      ]
     },
     "metadata": {},
     "output_type": "display_data"
    },
    {
     "data": {
      "application/vnd.jupyter.widget-view+json": {
       "model_id": "",
       "version_major": 2,
       "version_minor": 0
      },
      "text/plain": [
       "Validation: 0it [00:00, ?it/s]"
      ]
     },
     "metadata": {},
     "output_type": "display_data"
    },
    {
     "data": {
      "application/vnd.jupyter.widget-view+json": {
       "model_id": "",
       "version_major": 2,
       "version_minor": 0
      },
      "text/plain": [
       "Validation: 0it [00:00, ?it/s]"
      ]
     },
     "metadata": {},
     "output_type": "display_data"
    },
    {
     "data": {
      "application/vnd.jupyter.widget-view+json": {
       "model_id": "",
       "version_major": 2,
       "version_minor": 0
      },
      "text/plain": [
       "Validation: 0it [00:00, ?it/s]"
      ]
     },
     "metadata": {},
     "output_type": "display_data"
    },
    {
     "data": {
      "application/vnd.jupyter.widget-view+json": {
       "model_id": "",
       "version_major": 2,
       "version_minor": 0
      },
      "text/plain": [
       "Validation: 0it [00:00, ?it/s]"
      ]
     },
     "metadata": {},
     "output_type": "display_data"
    },
    {
     "data": {
      "text/html": [
       "Waiting for W&B process to finish... <strong style=\"color:green\">(success).</strong>"
      ],
      "text/plain": [
       "<IPython.core.display.HTML object>"
      ]
     },
     "metadata": {},
     "output_type": "display_data"
    },
    {
     "data": {
      "application/vnd.jupyter.widget-view+json": {
       "model_id": "08284670facb46c68d7cf77f12cc26cf",
       "version_major": 2,
       "version_minor": 0
      },
      "text/plain": [
       "VBox(children=(Label(value='0.002 MB of 0.002 MB uploaded (0.000 MB deduped)\\r'), FloatProgress(value=1.0, max…"
      ]
     },
     "metadata": {},
     "output_type": "display_data"
    },
    {
     "data": {
      "text/html": [
       "<style>\n",
       "    table.wandb td:nth-child(1) { padding: 0 10px; text-align: left ; width: auto;} td:nth-child(2) {text-align: left ; width: 100%}\n",
       "    .wandb-row { display: flex; flex-direction: row; flex-wrap: wrap; justify-content: flex-start; width: 100% }\n",
       "    .wandb-col { display: flex; flex-direction: column; flex-basis: 100%; flex: 1; padding: 10px; }\n",
       "    </style>\n",
       "<div class=\"wandb-row\"><div class=\"wandb-col\"><h3>Run history:</h3><br/><table class=\"wandb\"><tr><td>epoch</td><td>▁▂▂▂▃▃▃▃▃▄▄▄▄▄▄▅▅▅▅▅▅▅▅▆▆▆▆▆▆▇▇▇▇▇▇█████</td></tr><tr><td>train_loss_epoch</td><td>██▆▅▄▄▃▃▃▃▂▂▂▂▂▁▁▁▁▁</td></tr><tr><td>train_loss_step</td><td>▇▅█▇▇▅▆▇▃▆▃▆▇▄▆▂▆█▄▂▄▄▇▅▂▃▆▅▇▃▁▃▁▄▄▇▂▄▄▄</td></tr><tr><td>trainer/global_step</td><td>▁▂▂▂▂▃▃▃▃▃▃▄▄▄▄▄▄▅▅▅▅▅▅▅▆▆▆▆▆▆▇▇▇▇▇▇████</td></tr><tr><td>val_loss</td><td>▄▅▇▇██▇▇▇▅▄▂▃▃▃▃▄▄▂▁</td></tr></table><br/></div><div class=\"wandb-col\"><h3>Run summary:</h3><br/><table class=\"wandb\"><tr><td>epoch</td><td>19</td></tr><tr><td>train_loss_epoch</td><td>0.05611</td></tr><tr><td>train_loss_step</td><td>0.05729</td></tr><tr><td>trainer/global_step</td><td>2299</td></tr><tr><td>val_loss</td><td>0.0603</td></tr></table><br/></div></div>"
      ],
      "text/plain": [
       "<IPython.core.display.HTML object>"
      ]
     },
     "metadata": {},
     "output_type": "display_data"
    },
    {
     "data": {
      "text/html": [
       " View run <strong style=\"color:#cdcd00\">wobbly-water-28</strong> at: <a href='https://wandb.ai/nickljlee/Spike_transformer/runs/9b1mxy1y' target=\"_blank\">https://wandb.ai/nickljlee/Spike_transformer/runs/9b1mxy1y</a><br/> View job at <a href='https://wandb.ai/nickljlee/Spike_transformer/jobs/QXJ0aWZhY3RDb2xsZWN0aW9uOjg4MTQyODI1/version_details/v0' target=\"_blank\">https://wandb.ai/nickljlee/Spike_transformer/jobs/QXJ0aWZhY3RDb2xsZWN0aW9uOjg4MTQyODI1/version_details/v0</a><br/>Synced 6 W&B file(s), 0 media file(s), 0 artifact file(s) and 0 other file(s)"
      ],
      "text/plain": [
       "<IPython.core.display.HTML object>"
      ]
     },
     "metadata": {},
     "output_type": "display_data"
    },
    {
     "data": {
      "text/html": [
       "Find logs at: <code>/tmp/wandb/run-20230805_222058-9b1mxy1y/logs</code>"
      ],
      "text/plain": [
       "<IPython.core.display.HTML object>"
      ]
     },
     "metadata": {},
     "output_type": "display_data"
    }
   ],
   "source": [
    "# build model\n",
    "model = FineTuning(lr=config.LR,\n",
    "                    head_dropout=config.HEAD_DROPOUT,\n",
    "                    n_channels=config.N_CHANNELS,\n",
    "                    n_fft=config.N_FFT,\n",
    "                    hop_length=config.HOP_LENGTH)\n",
    "\n",
    "# create a logger\n",
    "wandb.init(dir='logging')\n",
    "wandb_logger = WandbLogger(project='super_awesome_project') \n",
    "\n",
    "# create callbacks with early stopping and model checkpoint (saves the best model)\n",
    "callbacks = [EarlyStopping(monitor='val_loss',patience=5),ModelCheckpoint(dirpath=model_path,filename='weights',monitor='val_loss')]\n",
    "# create trainer, use fast dev run to test the code\n",
    "trainer = pl.Trainer(devices=1, accelerator=\"gpu\", min_epochs=20,logger=wandb_logger,callbacks=callbacks,fast_dev_run=False)\n",
    "# train the model\n",
    "trainer.fit(model,train_dataloader,val_dataloader)\n",
    "wandb.finish()"
   ]
  },
  {
   "cell_type": "code",
   "execution_count": 20,
   "metadata": {},
   "outputs": [
    {
     "name": "stdout",
     "output_type": "stream",
     "text": [
      "32433\n"
     ]
    }
   ],
   "source": [
    "import scipy.io as sio\n",
    "import numpy as np\n",
    "import h5py\n",
    "import pandas as pd\n",
    "import os\n",
    "'''\n",
    "# load config and show all default parameters\n",
    "config = Config()\n",
    "df = pd.read_csv(config.PATH_LUT_BONOBO, sep=',')\n",
    "\n",
    "length = len(df)\n",
    "print(length)\n",
    "\n",
    "# List to store indices of rows corresponding to files not found\n",
    "indices_to_remove = []\n",
    "\n",
    "for idx in range(0, length):\n",
    "    event_file = df.iloc[idx]['event_file']\n",
    "    mat_file_name = f\"{event_file}.mat\"\n",
    "    path_signal = os.path.join('/home/ubuntu/data/bonobo/1.5/', mat_file_name)\n",
    "    \n",
    "    try:\n",
    "        signal = h5py.File(path_signal, 'r')\n",
    "        data = signal['seg']\n",
    "        npy_file_name = f\"{event_file}.npy\"\n",
    "        npy_file_path = os.path.join('/home/ubuntu/data/bonobo/npy1.5/', npy_file_name)\n",
    "        # Save the matrix as .npy file\n",
    "        np.save(npy_file_path, data)\n",
    "        \n",
    "    except FileNotFoundError:\n",
    "        print(f\"File {mat_file_name} not found. Marking for removal from dataframe.\")\n",
    "        indices_to_remove.append(idx)\n",
    "\n",
    "# Drop rows from df where files were not found\n",
    "df.drop(indices_to_remove, inplace=True)\n",
    "df.reset_index(drop=True, inplace=True)\n",
    "\n",
    "\n",
    "'''\n",
    "import scipy.io as sio\n",
    "import numpy as np\n",
    "import h5py\n",
    "# load config and show all default parameters\n",
    "df = pd.read_csv('/home/ubuntu/code/Spike_37chan/lut_labelled_20230628.csv', sep=';')\n",
    "\n",
    "length = len(df)\n",
    "print(length)\n",
    "\n",
    "for idx in range(0,length):\n",
    "    event_file = df.iloc[idx]['event_file']\n",
    "    # load signal of the idx-th sample\n",
    "    mat_file_name = f\"{event_file}.mat\"\n",
    "    path_signal = os.path.join('/home/ubuntu/data/bonobo/1.5/',mat_file_name)\n",
    "    signal = h5py.File(path_signal,'r')\n",
    "    data = signal['seg']\n",
    "    npy_file_name = f\"{event_file}.npy\"\n",
    "    npy_file_path = os.path.join('/home/ubuntu/data/bonobo/pseudo/', npy_file_name)\n",
    "    # Save the matrix as .npy file\n",
    "    np.save(npy_file_path, data)\n",
    "\n",
    "\n"
   ]
  },
  {
   "cell_type": "code",
   "execution_count": 7,
   "metadata": {},
   "outputs": [
    {
     "name": "stdout",
     "output_type": "stream",
     "text": [
      "709144\n"
     ]
    }
   ],
   "source": [
    "length = len(df)\n",
    "print(length)"
   ]
  },
  {
   "cell_type": "code",
   "execution_count": 8,
   "metadata": {},
   "outputs": [],
   "source": [
    "output_path = '/home/ubuntu/code/Spike_37chan/pseudo.csv'\n",
    "df.to_csv(output_path, index=False)"
   ]
  },
  {
   "cell_type": "code",
   "execution_count": 17,
   "metadata": {},
   "outputs": [
    {
     "name": "stderr",
     "output_type": "stream",
     "text": [
      "GPU available: True (cuda), used: True\n",
      "TPU available: False, using: 0 TPU cores\n",
      "IPU available: False, using: 0 IPUs\n",
      "HPU available: False, using: 0 HPUs\n",
      "LOCAL_RANK: 0 - CUDA_VISIBLE_DEVICES: [0]\n",
      "/opt/conda/envs/eeg/lib/python3.8/site-packages/pytorch_lightning/trainer/connectors/data_connector.py:480: PossibleUserWarning: Your `predict_dataloader`'s sampler has shuffling enabled, it is strongly recommended that you turn shuffling off for val/test dataloaders.\n",
      "  rank_zero_warn(\n"
     ]
    },
    {
     "ename": "NameError",
     "evalue": "name 'path_model' is not defined",
     "output_type": "error",
     "traceback": [
      "\u001b[0;31m---------------------------------------------------------------------------\u001b[0m",
      "\u001b[0;31mNameError\u001b[0m                                 Traceback (most recent call last)",
      "Cell \u001b[0;32mIn[17], line 19\u001b[0m\n\u001b[1;32m     17\u001b[0m results \u001b[38;5;241m=\u001b[39m train_df[[\u001b[38;5;124m'\u001b[39m\u001b[38;5;124mevent_file\u001b[39m\u001b[38;5;124m'\u001b[39m,\u001b[38;5;124m'\u001b[39m\u001b[38;5;124mfraction_of_yes\u001b[39m\u001b[38;5;124m'\u001b[39m,\u001b[38;5;124m'\u001b[39m\u001b[38;5;124mtotal_votes_received\u001b[39m\u001b[38;5;124m'\u001b[39m,\u001b[38;5;124m'\u001b[39m\u001b[38;5;124mMode\u001b[39m\u001b[38;5;124m'\u001b[39m]]\u001b[38;5;241m.\u001b[39mcopy()\n\u001b[1;32m     18\u001b[0m results[\u001b[38;5;124m'\u001b[39m\u001b[38;5;124mpreds\u001b[39m\u001b[38;5;124m'\u001b[39m] \u001b[38;5;241m=\u001b[39m preds\n\u001b[0;32m---> 19\u001b[0m results\u001b[38;5;241m.\u001b[39mto_csv(\u001b[43mpath_model\u001b[49m\u001b[38;5;241m+\u001b[39m\u001b[38;5;124m'\u001b[39m\u001b[38;5;124m/predictions_train.csv\u001b[39m\u001b[38;5;124m'\u001b[39m,index\u001b[38;5;241m=\u001b[39m\u001b[38;5;28;01mFalse\u001b[39;00m)\n",
      "\u001b[0;31mNameError\u001b[0m: name 'path_model' is not defined"
     ]
    }
   ],
   "source": [
    "\n",
    "import numpy as np\n",
    "model = FineTuning.load_from_checkpoint('/home/ubuntu/code/Spike_37chan/Models/YOUR_MODEL_NAME/37chan_weights-v6.ckpt',\n",
    "                                        lr=config.LR,\n",
    "                                        head_dropout=config.HEAD_DROPOUT,\n",
    "                                        n_channels=config.N_CHANNELS,\n",
    "                                        n_fft=config.N_FFT,\n",
    "                                        hop_length=config.HOP_LENGTH,\n",
    "                                       )\n",
    "                                        #map_location=torch.device('cpu') add this if running on CPU machine\n",
    "# init trainer\n",
    "trainer = pl.Trainer(fast_dev_run=False,enable_progress_bar=False)\n",
    "\n",
    "preds = trainer.predict(model,train_dataloader)\n",
    "preds = np.concatenate(preds)\n",
    "\n",
    "# store results\n",
    "results = train_df[['event_file','fraction_of_yes','total_votes_received','Mode']].copy()\n",
    "results['preds'] = preds\n",
    "results.to_csv(path_model+'/predictions_train.csv',index=False)"
   ]
  },
  {
   "cell_type": "code",
   "execution_count": 18,
   "metadata": {},
   "outputs": [
    {
     "data": {
      "text/plain": [
       "<Axes: >"
      ]
     },
     "execution_count": 18,
     "metadata": {},
     "output_type": "execute_result"
    },
    {
     "data": {
      "image/png": "[encoded data removed]",
      "text/plain": [
       "<Figure size 640x480 with 1 Axes>"
      ]
     },
     "metadata": {},
     "output_type": "display_data"
    }
   ],
   "source": [
    "results.preds.hist()"
   ]
  },
  {
   "cell_type": "code",
   "execution_count": 15,
   "metadata": {},
   "outputs": [
    {
     "data": {
      "text/plain": [
       "(30647, 1)"
      ]
     },
     "execution_count": 15,
     "metadata": {},
     "output_type": "execute_result"
    }
   ],
   "source": [
    "preds.shape"
   ]
  }
 ],
 "metadata": {
  "kernelspec": {
   "display_name": "Python 3 (ipykernel)",
   "language": "python",
   "name": "python3"
  },
  "language_info": {
   "codemirror_mode": {
    "name": "ipython",
    "version": 3
   },
   "file_extension": ".py",
   "mimetype": "text/x-python",
   "name": "python",
   "nbconvert_exporter": "python",
   "pygments_lexer": "ipython3",
   "version": "3.8.17"
  }
 },
 "nbformat": 4,
 "nbformat_minor": 4
}
