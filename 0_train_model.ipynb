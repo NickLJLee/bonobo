{
 "cells": [
  {
   "cell_type": "code",
   "execution_count": 1,
   "metadata": {},
   "outputs": [],
   "source": [
    "import pandas as pd\n",
    "import wandb\n",
    "import torch\n",
    "import os\n",
    "import matplotlib.pyplot as plt\n",
    "from sklearn.metrics import roc_curve, auc\n",
    "\n",
    "import pytorch_lightning as pl\n",
    "from pytorch_lightning.loggers import WandbLogger\n",
    "from pytorch_lightning.callbacks.early_stopping import EarlyStopping\n",
    "from pytorch_lightning.callbacks import ModelCheckpoint\n",
    "from torch.utils.data import DataLoader\n",
    "from torchvision import transforms\n",
    "import torch\n",
    "# load own code\n",
    "import sys\n",
    "sys.path.append('../')\n",
    "from sleeplib.Resnet_15.model import FineTuning\n",
    "from sleeplib.datasets import BonoboDataset , ContinousToSnippetDataset\n",
    "from sleeplib.montages import CDAC_bipolar_montage,CDAC_common_average_montage,CDAC_combine_montage\n",
    "from sleeplib.transforms import cut_and_jitter, CDAC_bipolar_signal_flip,CDAC_monopolar_signal_flip\n",
    "# this holds all the configuration parameters\n",
    "from sleeplib.config import Config\n",
    "import pickle\n"
   ]
  },
  {
   "cell_type": "code",
   "execution_count": 2,
   "metadata": {},
   "outputs": [
    {
     "name": "stdout",
     "output_type": "stream",
     "text": [
      "THIS CONFIG FILE CONTAINS THE FOLLOWING PARAMETERS :\n",
      "\n",
      "PATH_FILES_BONOBO /home/ubuntu/data/bonobo/npy/\n",
      "PATH_LUT_BONOBO /home/ubuntu/code/Spike_transformer/lut_labelled_20230628.csv\n",
      "PATH_CONTINOUS_EEG /bdsp/staging/Bonobo/Datasets/continuousEEG\n",
      "FQ 128\n",
      "MONTAGE bipolar\n",
      "WINDOWSIZE 1\n",
      "N_FFT 128\n",
      "HOP_LENGTH 64\n",
      "HEAD_DROPOUT 0.3\n",
      "EMB_SIZE 256\n",
      "HEADS 8\n",
      "DEPTH 4\n",
      "N_CHANNELS 37\n",
      "BATCH_SIZE 128\n",
      "LR 0.0001\n"
     ]
    }
   ],
   "source": [
    "# define model name and path\n",
    "model_path = 'Models/YOUR_MODEL_NAME'\n",
    "# load config and show all default parameters\n",
    "config = Config()\n",
    "config.print_config()\n",
    "# the config can be changed by setting config.PARAMETER = VALUE\n",
    "\n",
    "# save config to model_path using pickle\n",
    "with open(os.path.join(model_path, 'config.pkl'), 'wb') as f:\n",
    "    pickle.dump(config, f)"
   ]
  },
  {
   "cell_type": "code",
   "execution_count": 3,
   "metadata": {},
   "outputs": [],
   "source": [
    "# load dataset\n",
    "df = pd.read_csv(config.PATH_LUT_BONOBO,sep=';')\n",
    "# add transformations\n",
    "transform_train_bipolar = transforms.Compose([cut_and_jitter(windowsize=config.WINDOWSIZE,max_offset=0.1,Fq=config.FQ), CDAC_bipolar_signal_flip(p=1)])\n",
    "transform_train_common_average = transforms.Compose([cut_and_jitter(windowsize=config.WINDOWSIZE,max_offset=0.1,Fq=config.FQ), CDAC_monopolar_signal_flip(p=1)])\n",
    "transform_val = transforms.Compose([cut_and_jitter(windowsize=config.WINDOWSIZE,max_offset=0,Fq=config.FQ)])#,CDAC_signal_flip(p=0)])\n",
    "transform_val = transforms.Compose([cut_and_jitter(windowsize=config.WINDOWSIZE,max_offset=0,Fq=config.FQ)])#,CDAC_signal_flip(p=0)])\n",
    "\n",
    "# init datasets\n",
    "sub_df = df[df['total_votes_received']>2]\n",
    "train_df = sub_df[sub_df['Mode']=='Train']\n",
    "val_df = sub_df[sub_df['Mode']=='Val']\n",
    "\n",
    "# set up dataloaders\n",
    "bipolar_montage = CDAC_bipolar_montage()\n",
    "common_average_montage = CDAC_common_average_montage()\n",
    "combine_montage = CDAC_combine_montage()\n",
    "\n",
    "Bonobo_train = BonoboDataset(train_df, config.PATH_FILES_BONOBO, \n",
    "                             transform_train_bipolar=transform_train_bipolar,\n",
    "                             transform_train_common_average=transform_train_common_average, \n",
    "                             bipolar_montage=bipolar_montage, \n",
    "                             common_average_montage=common_average_montage,\n",
    "                             combine_montage = combine_montage\n",
    "                            )\n",
    "train_dataloader = DataLoader(Bonobo_train, batch_size=config.BATCH_SIZE, shuffle=True, num_workers=os.cpu_count())\n",
    "\n",
    "Bonobo_val = BonoboDataset(val_df, config.PATH_FILES_BONOBO, \n",
    "                           transform_train_bipolar=transform_val, \n",
    "                           transform_train_common_average=transform_train_common_average, \n",
    "                           bipolar_montage=bipolar_montage, \n",
    "                           common_average_montage=common_average_montage,\n",
    "                           combine_montage = combine_montage\n",
    "                          )\n",
    "val_dataloader = DataLoader(Bonobo_val, batch_size=config.BATCH_SIZE,shuffle=False,num_workers=os.cpu_count())\n",
    "\n",
    "#Bonobo_con = ContinousToSnippetDataset('/home/ubuntu/data/Bonobo01742_0.mat',montage=montage)#montage use numpy,so .mat maybe cannot do it\n",
    "#con_dataloader = DataLoader(Bonobo_con, batch_size=config.BATCH_SIZE,shuffle=False,num_workers=os.cpu_count())\n"
   ]
  },
  {
   "cell_type": "code",
   "execution_count": 4,
   "metadata": {},
   "outputs": [
    {
     "name": "stderr",
     "output_type": "stream",
     "text": [
      "\u001b[34m\u001b[1mwandb\u001b[0m: Currently logged in as: \u001b[33m540452385\u001b[0m (\u001b[33mnickljlee\u001b[0m). Use \u001b[1m`wandb login --relogin`\u001b[0m to force relogin\n",
      "\u001b[34m\u001b[1mwandb\u001b[0m: \u001b[33mWARNING\u001b[0m Path logging/wandb/ wasn't writable, using system temp directory.\n",
      "wandb: WARNING Path logging/wandb/ wasn't writable, using system temp directory\n"
     ]
    },
    {
     "data": {
      "text/html": [
       "wandb version 0.15.8 is available!  To upgrade, please run:\n",
       " $ pip install wandb --upgrade"
      ],
      "text/plain": [
       "<IPython.core.display.HTML object>"
      ]
     },
     "metadata": {},
     "output_type": "display_data"
    },
    {
     "data": {
      "text/html": [
       "Tracking run with wandb version 0.15.7"
      ],
      "text/plain": [
       "<IPython.core.display.HTML object>"
      ]
     },
     "metadata": {},
     "output_type": "display_data"
    },
    {
     "data": {
      "text/html": [
       "Run data is saved locally in <code>/tmp/wandb/run-20230805_165246-h7m4w483</code>"
      ],
      "text/plain": [
       "<IPython.core.display.HTML object>"
      ]
     },
     "metadata": {},
     "output_type": "display_data"
    },
    {
     "data": {
      "text/html": [
       "Syncing run <strong><a href='https://wandb.ai/nickljlee/Spike_transformer/runs/h7m4w483' target=\"_blank\">skilled-morning-20</a></strong> to <a href='https://wandb.ai/nickljlee/Spike_transformer' target=\"_blank\">Weights & Biases</a> (<a href='https://wandb.me/run' target=\"_blank\">docs</a>)<br/>"
      ],
      "text/plain": [
       "<IPython.core.display.HTML object>"
      ]
     },
     "metadata": {},
     "output_type": "display_data"
    },
    {
     "data": {
      "text/html": [
       " View project at <a href='https://wandb.ai/nickljlee/Spike_transformer' target=\"_blank\">https://wandb.ai/nickljlee/Spike_transformer</a>"
      ],
      "text/plain": [
       "<IPython.core.display.HTML object>"
      ]
     },
     "metadata": {},
     "output_type": "display_data"
    },
    {
     "data": {
      "text/html": [
       " View run at <a href='https://wandb.ai/nickljlee/Spike_transformer/runs/h7m4w483' target=\"_blank\">https://wandb.ai/nickljlee/Spike_transformer/runs/h7m4w483</a>"
      ],
      "text/plain": [
       "<IPython.core.display.HTML object>"
      ]
     },
     "metadata": {},
     "output_type": "display_data"
    },
    {
     "name": "stderr",
     "output_type": "stream",
     "text": [
      "/opt/conda/envs/eeg/lib/python3.8/site-packages/pytorch_lightning/loggers/wandb.py:396: UserWarning: There is a wandb run already in progress and newly created instances of `WandbLogger` will reuse this run. If this is not desired, call `wandb.finish()` before instantiating `WandbLogger`.\n",
      "  rank_zero_warn(\n",
      "GPU available: True (cuda), used: True\n",
      "TPU available: False, using: 0 TPU cores\n",
      "IPU available: False, using: 0 IPUs\n",
      "HPU available: False, using: 0 HPUs\n",
      "/opt/conda/envs/eeg/lib/python3.8/site-packages/pytorch_lightning/loops/utilities.py:70: PossibleUserWarning: `max_epochs` was not set. Setting it to 1000 epochs. To train without an epoch limit, set `max_epochs=-1`.\n",
      "  rank_zero_warn(\n",
      "/opt/conda/envs/eeg/lib/python3.8/site-packages/pytorch_lightning/callbacks/model_checkpoint.py:615: UserWarning: Checkpoint directory /home/ubuntu/code/Spike_transformer/Models/YOUR_MODEL_NAME exists and is not empty.\n",
      "  rank_zero_warn(f\"Checkpoint directory {dirpath} exists and is not empty.\")\n",
      "LOCAL_RANK: 0 - CUDA_VISIBLE_DEVICES: [0]\n",
      "\n",
      "  | Name  | Type           | Params\n",
      "-----------------------------------------\n",
      "0 | model | Net1D          | 4.0 M \n",
      "1 | head  | RegressionHead | 129   \n",
      "-----------------------------------------\n",
      "4.0 M     Trainable params\n",
      "0         Non-trainable params\n",
      "4.0 M     Total params\n",
      "15.931    Total estimated model params size (MB)\n"
     ]
    },
    {
     "data": {
      "application/vnd.jupyter.widget-view+json": {
       "model_id": "",
       "version_major": 2,
       "version_minor": 0
      },
      "text/plain": [
       "Sanity Checking: 0it [00:00, ?it/s]"
      ]
     },
     "metadata": {},
     "output_type": "display_data"
    },
    {
     "name": "stderr",
     "output_type": "stream",
     "text": [
      "Traceback (most recent call last):\n",
      "  File \"/opt/conda/envs/eeg/lib/python3.8/multiprocessing/util.py\", line 300, in _run_finalizers\n",
      "    finalizer()\n",
      "  File \"/opt/conda/envs/eeg/lib/python3.8/multiprocessing/util.py\", line 224, in __call__\n",
      "    res = self._callback(*self._args, **self._kwargs)\n",
      "  File \"/opt/conda/envs/eeg/lib/python3.8/multiprocessing/util.py\", line 133, in _remove_temp_dir\n",
      "    rmtree(tempdir)\n",
      "  File \"/opt/conda/envs/eeg/lib/python3.8/shutil.py\", line 722, in rmtree\n",
      "    onerror(os.rmdir, path, sys.exc_info())\n",
      "  File \"/opt/conda/envs/eeg/lib/python3.8/shutil.py\", line 720, in rmtree\n",
      "    os.rmdir(path)\n",
      "OSError: [Errno 39] Directory not empty: '/tmp/pymp-jmd8j5qs'\n",
      "Traceback (most recent call last):\n",
      "  File \"/opt/conda/envs/eeg/lib/python3.8/multiprocessing/util.py\", line 300, in _run_finalizers\n",
      "    finalizer()\n",
      "  File \"/opt/conda/envs/eeg/lib/python3.8/multiprocessing/util.py\", line 224, in __call__\n",
      "    res = self._callback(*self._args, **self._kwargs)\n",
      "  File \"/opt/conda/envs/eeg/lib/python3.8/multiprocessing/util.py\", line 133, in _remove_temp_dir\n",
      "    rmtree(tempdir)\n",
      "  File \"/opt/conda/envs/eeg/lib/python3.8/shutil.py\", line 722, in rmtree\n",
      "    onerror(os.rmdir, path, sys.exc_info())\n",
      "  File \"/opt/conda/envs/eeg/lib/python3.8/shutil.py\", line 720, in rmtree\n",
      "    os.rmdir(path)\n",
      "OSError: [Errno 39] Directory not empty: '/tmp/pymp-ih0wo3j0'\n"
     ]
    },
    {
     "data": {
      "application/vnd.jupyter.widget-view+json": {
       "model_id": "0a4817b2676c4e44921bfbc7cede3eb8",
       "version_major": 2,
       "version_minor": 0
      },
      "text/plain": [
       "Training: 0it [00:00, ?it/s]"
      ]
     },
     "metadata": {},
     "output_type": "display_data"
    },
    {
     "data": {
      "application/vnd.jupyter.widget-view+json": {
       "model_id": "",
       "version_major": 2,
       "version_minor": 0
      },
      "text/plain": [
       "Validation: 0it [00:00, ?it/s]"
      ]
     },
     "metadata": {},
     "output_type": "display_data"
    },
    {
     "data": {
      "application/vnd.jupyter.widget-view+json": {
       "model_id": "",
       "version_major": 2,
       "version_minor": 0
      },
      "text/plain": [
       "Validation: 0it [00:00, ?it/s]"
      ]
     },
     "metadata": {},
     "output_type": "display_data"
    },
    {
     "data": {
      "application/vnd.jupyter.widget-view+json": {
       "model_id": "",
       "version_major": 2,
       "version_minor": 0
      },
      "text/plain": [
       "Validation: 0it [00:00, ?it/s]"
      ]
     },
     "metadata": {},
     "output_type": "display_data"
    },
    {
     "data": {
      "application/vnd.jupyter.widget-view+json": {
       "model_id": "",
       "version_major": 2,
       "version_minor": 0
      },
      "text/plain": [
       "Validation: 0it [00:00, ?it/s]"
      ]
     },
     "metadata": {},
     "output_type": "display_data"
    },
    {
     "data": {
      "application/vnd.jupyter.widget-view+json": {
       "model_id": "",
       "version_major": 2,
       "version_minor": 0
      },
      "text/plain": [
       "Validation: 0it [00:00, ?it/s]"
      ]
     },
     "metadata": {},
     "output_type": "display_data"
    },
    {
     "data": {
      "application/vnd.jupyter.widget-view+json": {
       "model_id": "",
       "version_major": 2,
       "version_minor": 0
      },
      "text/plain": [
       "Validation: 0it [00:00, ?it/s]"
      ]
     },
     "metadata": {},
     "output_type": "display_data"
    },
    {
     "name": "stderr",
     "output_type": "stream",
     "text": [
      "Trainer was signaled to stop but the required `min_epochs=20` or `min_steps=None` has not been met. Training will continue...\n"
     ]
    },
    {
     "data": {
      "application/vnd.jupyter.widget-view+json": {
       "model_id": "",
       "version_major": 2,
       "version_minor": 0
      },
      "text/plain": [
       "Validation: 0it [00:00, ?it/s]"
      ]
     },
     "metadata": {},
     "output_type": "display_data"
    },
    {
     "data": {
      "application/vnd.jupyter.widget-view+json": {
       "model_id": "",
       "version_major": 2,
       "version_minor": 0
      },
      "text/plain": [
       "Validation: 0it [00:00, ?it/s]"
      ]
     },
     "metadata": {},
     "output_type": "display_data"
    },
    {
     "data": {
      "application/vnd.jupyter.widget-view+json": {
       "model_id": "",
       "version_major": 2,
       "version_minor": 0
      },
      "text/plain": [
       "Validation: 0it [00:00, ?it/s]"
      ]
     },
     "metadata": {},
     "output_type": "display_data"
    },
    {
     "data": {
      "application/vnd.jupyter.widget-view+json": {
       "model_id": "",
       "version_major": 2,
       "version_minor": 0
      },
      "text/plain": [
       "Validation: 0it [00:00, ?it/s]"
      ]
     },
     "metadata": {},
     "output_type": "display_data"
    },
    {
     "data": {
      "application/vnd.jupyter.widget-view+json": {
       "model_id": "",
       "version_major": 2,
       "version_minor": 0
      },
      "text/plain": [
       "Validation: 0it [00:00, ?it/s]"
      ]
     },
     "metadata": {},
     "output_type": "display_data"
    },
    {
     "data": {
      "application/vnd.jupyter.widget-view+json": {
       "model_id": "",
       "version_major": 2,
       "version_minor": 0
      },
      "text/plain": [
       "Validation: 0it [00:00, ?it/s]"
      ]
     },
     "metadata": {},
     "output_type": "display_data"
    },
    {
     "data": {
      "application/vnd.jupyter.widget-view+json": {
       "model_id": "",
       "version_major": 2,
       "version_minor": 0
      },
      "text/plain": [
       "Validation: 0it [00:00, ?it/s]"
      ]
     },
     "metadata": {},
     "output_type": "display_data"
    },
    {
     "name": "stderr",
     "output_type": "stream",
     "text": [
      "/opt/conda/envs/eeg/lib/python3.8/site-packages/pytorch_lightning/trainer/call.py:52: UserWarning: Detected KeyboardInterrupt, attempting graceful shutdown...\n",
      "  rank_zero_warn(\"Detected KeyboardInterrupt, attempting graceful shutdown...\")\n"
     ]
    },
    {
     "data": {
      "text/html": [
       "Waiting for W&B process to finish... <strong style=\"color:green\">(success).</strong>"
      ],
      "text/plain": [
       "<IPython.core.display.HTML object>"
      ]
     },
     "metadata": {},
     "output_type": "display_data"
    },
    {
     "data": {
      "application/vnd.jupyter.widget-view+json": {
       "model_id": "d00ed654e8b242afa1c9b68301bf348a",
       "version_major": 2,
       "version_minor": 0
      },
      "text/plain": [
       "VBox(children=(Label(value='0.002 MB of 0.002 MB uploaded (0.000 MB deduped)\\r'), FloatProgress(value=1.0, max…"
      ]
     },
     "metadata": {},
     "output_type": "display_data"
    },
    {
     "data": {
      "text/html": [
       "<style>\n",
       "    table.wandb td:nth-child(1) { padding: 0 10px; text-align: left ; width: auto;} td:nth-child(2) {text-align: left ; width: 100%}\n",
       "    .wandb-row { display: flex; flex-direction: row; flex-wrap: wrap; justify-content: flex-start; width: 100% }\n",
       "    .wandb-col { display: flex; flex-direction: column; flex-basis: 100%; flex: 1; padding: 10px; }\n",
       "    </style>\n",
       "<div class=\"wandb-row\"><div class=\"wandb-col\"><h3>Run history:</h3><br/><table class=\"wandb\"><tr><td>epoch</td><td>▁▃▄▄▄▄▄▅▅▅▅▅▅▅▅▅▅▆▆▆▆▆▆▆▆▆▆▆▇▇▇▇▇▇▇▇▇▇██</td></tr><tr><td>train_loss_epoch</td><td>█▆▄▃▃▃▂▂▂▂▁▁▁</td></tr><tr><td>train_loss_step</td><td>▇▇▃▃▃▂▃▄▆▆█▅▅▅▂▅▁▃▄▁▃▃▄▃▆▄▅▄▃▅▂▅▃▄▁▃▄▂▃▄</td></tr><tr><td>trainer/global_step</td><td>▁▃▄▄▄▄▄▄▄▄▅▅▅▅▅▅▅▅▅▆▆▆▆▆▆▆▆▇▇▇▇▇▇▇▇▇████</td></tr><tr><td>val_loss</td><td>▁▃▇██▇██▇▇▇█▇</td></tr></table><br/></div><div class=\"wandb-col\"><h3>Run summary:</h3><br/><table class=\"wandb\"><tr><td>epoch</td><td>13</td></tr><tr><td>train_loss_epoch</td><td>0.05628</td></tr><tr><td>train_loss_step</td><td>0.0583</td></tr><tr><td>trainer/global_step</td><td>1527</td></tr><tr><td>val_loss</td><td>0.07205</td></tr></table><br/></div></div>"
      ],
      "text/plain": [
       "<IPython.core.display.HTML object>"
      ]
     },
     "metadata": {},
     "output_type": "display_data"
    },
    {
     "data": {
      "text/html": [
       " View run <strong style=\"color:#cdcd00\">skilled-morning-20</strong> at: <a href='https://wandb.ai/nickljlee/Spike_transformer/runs/h7m4w483' target=\"_blank\">https://wandb.ai/nickljlee/Spike_transformer/runs/h7m4w483</a><br/> View job at <a href='https://wandb.ai/nickljlee/Spike_transformer/jobs/QXJ0aWZhY3RDb2xsZWN0aW9uOjg4MDQ3ODU3/version_details/v4' target=\"_blank\">https://wandb.ai/nickljlee/Spike_transformer/jobs/QXJ0aWZhY3RDb2xsZWN0aW9uOjg4MDQ3ODU3/version_details/v4</a><br/>Synced 6 W&B file(s), 0 media file(s), 2 artifact file(s) and 0 other file(s)"
      ],
      "text/plain": [
       "<IPython.core.display.HTML object>"
      ]
     },
     "metadata": {},
     "output_type": "display_data"
    },
    {
     "data": {
      "text/html": [
       "Find logs at: <code>/tmp/wandb/run-20230805_165246-h7m4w483/logs</code>"
      ],
      "text/plain": [
       "<IPython.core.display.HTML object>"
      ]
     },
     "metadata": {},
     "output_type": "display_data"
    }
   ],
   "source": [
    "# build model\n",
    "model = FineTuning(lr=config.LR,\n",
    "                    head_dropout=config.HEAD_DROPOUT,\n",
    "                    n_channels=config.N_CHANNELS,\n",
    "                    n_fft=config.N_FFT,\n",
    "                    hop_length=config.HOP_LENGTH)\n",
    "\n",
    "# create a logger\n",
    "wandb.init(dir='logging')\n",
    "wandb_logger = WandbLogger(project='super_awesome_project') \n",
    "\n",
    "# create callbacks with early stopping and model checkpoint (saves the best model)\n",
    "callbacks = [EarlyStopping(monitor='val_loss',patience=5),ModelCheckpoint(dirpath=model_path,filename='weights',monitor='val_loss')]\n",
    "# create trainer, use fast dev run to test the code\n",
    "trainer = pl.Trainer(devices=1, accelerator=\"gpu\", min_epochs=20,logger=wandb_logger,callbacks=callbacks,fast_dev_run=False)\n",
    "# train the model\n",
    "trainer.fit(model,train_dataloader,val_dataloader)\n",
    "wandb.finish()"
   ]
  },
  {
   "cell_type": "code",
   "execution_count": null,
   "metadata": {},
   "outputs": [],
   "source": [
    "'''\n",
    "import scipy.io as sio\n",
    "import numpy as np\n",
    "import h5py\n",
    "# load config and show all default parameters\n",
    "config = Config()\n",
    "config.print_config()\n",
    "df = pd.read_csv(config.PATH_LUT_BONOBO,sep=';')\n",
    "\n",
    "\n",
    "for idx in range(0,32433):\n",
    "    event_file = df.iloc[idx]['event_file']\n",
    "    # load signal of the idx-th sample\n",
    "    mat_file_name = f\"{event_file}.mat\"\n",
    "    path_signal = os.path.join('/home/ubuntu/data/bonobo/1.5/',mat_file_name)\n",
    "    signal = h5py.File(path_signal,'r')\n",
    "    data = signal['seg']\n",
    "    npy_file_name = f\"{event_file}.npy\"\n",
    "    npy_file_path = os.path.join('/home/ubuntu/data/bonobo/npy1.5/', npy_file_name)\n",
    "    # Save the matrix as .npy file\n",
    "    np.save(npy_file_path, data)\n",
    "\n",
    "\n",
    "\n"
   ]
  },
  {
   "cell_type": "code",
   "execution_count": 5,
   "metadata": {},
   "outputs": [
    {
     "name": "stdout",
     "output_type": "stream",
     "text": [
      "torch.Size([128, 37, 128])\n",
      "torch.Size([128, 37, 128])\n",
      "torch.Size([128, 37, 128])\n",
      "torch.Size([128, 37, 128])\n",
      "torch.Size([128, 37, 128])\n",
      "torch.Size([128, 37, 128])\n",
      "torch.Size([128, 37, 128])\n",
      "torch.Size([128, 37, 128])\n",
      "torch.Size([128, 37, 128])\n",
      "torch.Size([128, 37, 128])\n",
      "torch.Size([128, 37, 128])\n",
      "torch.Size([128, 37, 128])\n",
      "torch.Size([128, 37, 128])\n",
      "torch.Size([128, 37, 128])\n",
      "torch.Size([128, 37, 128])\n",
      "torch.Size([128, 37, 128])\n",
      "torch.Size([128, 37, 128])\n",
      "torch.Size([128, 37, 128])\n",
      "torch.Size([128, 37, 128])\n",
      "torch.Size([128, 37, 128])\n",
      "torch.Size([128, 37, 128])\n",
      "torch.Size([128, 37, 128])\n",
      "torch.Size([128, 37, 128])\n",
      "torch.Size([128, 37, 128])\n",
      "torch.Size([128, 37, 128])\n",
      "torch.Size([128, 37, 128])\n",
      "torch.Size([128, 37, 128])\n",
      "torch.Size([128, 37, 128])\n",
      "torch.Size([128, 37, 128])\n",
      "torch.Size([128, 37, 128])\n",
      "torch.Size([128, 37, 128])\n",
      "torch.Size([128, 37, 128])\n",
      "torch.Size([128, 37, 128])\n",
      "torch.Size([128, 37, 128])\n",
      "torch.Size([128, 37, 128])\n",
      "torch.Size([128, 37, 128])\n",
      "torch.Size([128, 37, 128])\n",
      "torch.Size([128, 37, 128])\n",
      "torch.Size([128, 37, 128])\n",
      "torch.Size([128, 37, 128])\n",
      "torch.Size([128, 37, 128])\n",
      "torch.Size([128, 37, 128])\n",
      "torch.Size([128, 37, 128])\n",
      "torch.Size([128, 37, 128])\n",
      "torch.Size([128, 37, 128])\n",
      "torch.Size([128, 37, 128])\n",
      "torch.Size([128, 37, 128])\n",
      "torch.Size([128, 37, 128])\n",
      "torch.Size([128, 37, 128])\n",
      "torch.Size([128, 37, 128])\n",
      "torch.Size([128, 37, 128])\n",
      "torch.Size([128, 37, 128])\n",
      "torch.Size([128, 37, 128])\n",
      "torch.Size([128, 37, 128])\n",
      "torch.Size([128, 37, 128])\n",
      "torch.Size([128, 37, 128])\n",
      "torch.Size([128, 37, 128])\n",
      "torch.Size([128, 37, 128])\n",
      "torch.Size([128, 37, 128])\n",
      "torch.Size([128, 37, 128])\n",
      "torch.Size([128, 37, 128])\n",
      "torch.Size([128, 37, 128])\n",
      "torch.Size([128, 37, 128])\n",
      "torch.Size([128, 37, 128])\n",
      "torch.Size([128, 37, 128])\n",
      "torch.Size([128, 37, 128])\n",
      "torch.Size([128, 37, 128])\n",
      "torch.Size([128, 37, 128])\n",
      "torch.Size([128, 37, 128])\n",
      "torch.Size([128, 37, 128])\n",
      "torch.Size([128, 37, 128])\n",
      "torch.Size([128, 37, 128])\n",
      "torch.Size([128, 37, 128])\n",
      "torch.Size([128, 37, 128])\n",
      "torch.Size([128, 37, 128])\n",
      "torch.Size([128, 37, 128])\n",
      "torch.Size([128, 37, 128])\n",
      "torch.Size([128, 37, 128])\n",
      "torch.Size([128, 37, 128])\n",
      "torch.Size([128, 37, 128])\n",
      "torch.Size([128, 37, 128])\n",
      "torch.Size([128, 37, 128])\n",
      "torch.Size([128, 37, 128])\n",
      "torch.Size([128, 37, 128])\n",
      "torch.Size([128, 37, 128])\n",
      "torch.Size([128, 37, 128])\n",
      "torch.Size([128, 37, 128])\n",
      "torch.Size([128, 37, 128])\n",
      "torch.Size([128, 37, 128])\n",
      "torch.Size([128, 37, 128])\n",
      "torch.Size([128, 37, 128])\n",
      "torch.Size([128, 37, 128])\n",
      "torch.Size([128, 37, 128])\n",
      "torch.Size([128, 37, 128])\n",
      "torch.Size([128, 37, 128])\n",
      "torch.Size([128, 37, 128])\n",
      "torch.Size([128, 37, 128])\n",
      "torch.Size([128, 37, 128])\n",
      "torch.Size([128, 37, 128])\n",
      "torch.Size([128, 37, 128])\n",
      "torch.Size([128, 37, 128])\n",
      "torch.Size([128, 37, 128])\n",
      "torch.Size([128, 37, 128])\n",
      "torch.Size([128, 37, 128])\n",
      "torch.Size([128, 37, 128])\n",
      "torch.Size([128, 37, 128])\n",
      "torch.Size([128, 37, 128])\n",
      "torch.Size([128, 37, 128])\n",
      "torch.Size([128, 37, 128])\n",
      "torch.Size([128, 37, 128])\n",
      "torch.Size([128, 37, 128])\n",
      "torch.Size([128, 37, 128])\n",
      "torch.Size([128, 37, 128])\n",
      "torch.Size([128, 37, 128])\n",
      "torch.Size([41, 37, 128])\n"
     ]
    }
   ],
   "source": [
    "for x, y in train_dataloader:\n",
    "    with torch.no_grad():\n",
    "        print(x.shape)"
   ]
  },
  {
   "cell_type": "code",
   "execution_count": null,
   "metadata": {},
   "outputs": [],
   "source": []
  }
 ],
 "metadata": {
  "kernelspec": {
   "display_name": "Python 3 (ipykernel)",
   "language": "python",
   "name": "python3"
  },
  "language_info": {
   "codemirror_mode": {
    "name": "ipython",
    "version": 3
   },
   "file_extension": ".py",
   "mimetype": "text/x-python",
   "name": "python",
   "nbconvert_exporter": "python",
   "pygments_lexer": "ipython3",
   "version": "3.8.17"
  }
 },
 "nbformat": 4,
 "nbformat_minor": 4
}
