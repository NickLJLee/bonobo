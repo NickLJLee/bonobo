{
 "cells": [
  {
   "cell_type": "code",
   "execution_count": 1,
   "metadata": {},
   "outputs": [],
   "source": [
    "import numpy as np\n",
    "import pandas as pd\n",
    "import os\n",
    "from tqdm import tqdm\n",
    "import matplotlib.pyplot as plt\n",
    "from sklearn.metrics import roc_curve, auc"
   ]
  },
  {
   "cell_type": "code",
   "execution_count": 2,
   "metadata": {},
   "outputs": [],
   "source": [
    "# get the path of the model\n",
    "model_name = 'SpikeResnet'\n",
    "path_model = os.path.join('..','Backstage',model_name)"
   ]
  },
  {
   "cell_type": "code",
   "execution_count": 3,
   "metadata": {},
   "outputs": [],
   "source": [
    "# get prediction dataframe from Backstage/Model_name\n",
    "bonobo_pred = pd.read_csv(path_model+'/bonobo_pred.csv')\n",
    "bonobo_pred = pd.read_csv(path_model+'/93.7_predictions.csv')\n",
    "\n",
    "# get labels dataframe from Judge\n",
    "path_bonobo_labels = os.path.join('..','Judge','testset_bonobo_events.csv')\n",
    "bonobo_labels = pd.read_csv(path_bonobo_labels)\n"
   ]
  },
  {
   "cell_type": "code",
   "execution_count": 4,
   "metadata": {},
   "outputs": [
    {
     "data": {
      "text/html": [
       "<div>\n",
       "<style scoped>\n",
       "    .dataframe tbody tr th:only-of-type {\n",
       "        vertical-align: middle;\n",
       "    }\n",
       "\n",
       "    .dataframe tbody tr th {\n",
       "        vertical-align: top;\n",
       "    }\n",
       "\n",
       "    .dataframe thead th {\n",
       "        text-align: right;\n",
       "    }\n",
       "</style>\n",
       "<table border=\"1\" class=\"dataframe\">\n",
       "  <thead>\n",
       "    <tr style=\"text-align: right;\">\n",
       "      <th></th>\n",
       "      <th>event_file</th>\n",
       "      <th>fraction_of_yes</th>\n",
       "      <th>total_votes_received</th>\n",
       "      <th>Mode</th>\n",
       "      <th>preds</th>\n",
       "    </tr>\n",
       "  </thead>\n",
       "  <tbody>\n",
       "    <tr>\n",
       "      <th>6</th>\n",
       "      <td>Bonobo00049_0_255442</td>\n",
       "      <td>0.000000</td>\n",
       "      <td>8</td>\n",
       "      <td>Test</td>\n",
       "      <td>3.049172e-07</td>\n",
       "    </tr>\n",
       "    <tr>\n",
       "      <th>10</th>\n",
       "      <td>Bonobo00186_0_3402</td>\n",
       "      <td>0.000000</td>\n",
       "      <td>12</td>\n",
       "      <td>Test</td>\n",
       "      <td>1.354690e-07</td>\n",
       "    </tr>\n",
       "    <tr>\n",
       "      <th>11</th>\n",
       "      <td>Bonobo00200_0_128917</td>\n",
       "      <td>0.875000</td>\n",
       "      <td>8</td>\n",
       "      <td>Test</td>\n",
       "      <td>1.708341e-11</td>\n",
       "    </tr>\n",
       "    <tr>\n",
       "      <th>16</th>\n",
       "      <td>Bonobo00204_0_18</td>\n",
       "      <td>0.000000</td>\n",
       "      <td>12</td>\n",
       "      <td>Test</td>\n",
       "      <td>3.464716e-10</td>\n",
       "    </tr>\n",
       "    <tr>\n",
       "      <th>17</th>\n",
       "      <td>Bonobo00207_0_2255</td>\n",
       "      <td>0.066667</td>\n",
       "      <td>15</td>\n",
       "      <td>Test</td>\n",
       "      <td>1.727802e-03</td>\n",
       "    </tr>\n",
       "    <tr>\n",
       "      <th>...</th>\n",
       "      <td>...</td>\n",
       "      <td>...</td>\n",
       "      <td>...</td>\n",
       "      <td>...</td>\n",
       "      <td>...</td>\n",
       "    </tr>\n",
       "    <tr>\n",
       "      <th>2123</th>\n",
       "      <td>Bonobo06895_0_1796</td>\n",
       "      <td>0.000000</td>\n",
       "      <td>12</td>\n",
       "      <td>Test</td>\n",
       "      <td>5.050576e-09</td>\n",
       "    </tr>\n",
       "    <tr>\n",
       "      <th>2124</th>\n",
       "      <td>Bonobo06895_0_2502</td>\n",
       "      <td>0.000000</td>\n",
       "      <td>15</td>\n",
       "      <td>Test</td>\n",
       "      <td>5.781548e-03</td>\n",
       "    </tr>\n",
       "    <tr>\n",
       "      <th>2125</th>\n",
       "      <td>Bonobo06895_0_2970</td>\n",
       "      <td>0.000000</td>\n",
       "      <td>12</td>\n",
       "      <td>Test</td>\n",
       "      <td>1.056784e-02</td>\n",
       "    </tr>\n",
       "    <tr>\n",
       "      <th>2126</th>\n",
       "      <td>Bonobo06944_0_2647</td>\n",
       "      <td>0.000000</td>\n",
       "      <td>15</td>\n",
       "      <td>Test</td>\n",
       "      <td>7.071003e-02</td>\n",
       "    </tr>\n",
       "    <tr>\n",
       "      <th>2128</th>\n",
       "      <td>Bonobo06986_0_5215</td>\n",
       "      <td>0.000000</td>\n",
       "      <td>18</td>\n",
       "      <td>Test</td>\n",
       "      <td>5.822745e-04</td>\n",
       "    </tr>\n",
       "  </tbody>\n",
       "</table>\n",
       "<p>902 rows × 5 columns</p>\n",
       "</div>"
      ],
      "text/plain": [
       "                event_file  fraction_of_yes  total_votes_received  Mode  \\\n",
       "6     Bonobo00049_0_255442         0.000000                     8  Test   \n",
       "10      Bonobo00186_0_3402         0.000000                    12  Test   \n",
       "11    Bonobo00200_0_128917         0.875000                     8  Test   \n",
       "16        Bonobo00204_0_18         0.000000                    12  Test   \n",
       "17      Bonobo00207_0_2255         0.066667                    15  Test   \n",
       "...                    ...              ...                   ...   ...   \n",
       "2123    Bonobo06895_0_1796         0.000000                    12  Test   \n",
       "2124    Bonobo06895_0_2502         0.000000                    15  Test   \n",
       "2125    Bonobo06895_0_2970         0.000000                    12  Test   \n",
       "2126    Bonobo06944_0_2647         0.000000                    15  Test   \n",
       "2128    Bonobo06986_0_5215         0.000000                    18  Test   \n",
       "\n",
       "             preds  \n",
       "6     3.049172e-07  \n",
       "10    1.354690e-07  \n",
       "11    1.708341e-11  \n",
       "16    3.464716e-10  \n",
       "17    1.727802e-03  \n",
       "...            ...  \n",
       "2123  5.050576e-09  \n",
       "2124  5.781548e-03  \n",
       "2125  1.056784e-02  \n",
       "2126  7.071003e-02  \n",
       "2128  5.822745e-04  \n",
       "\n",
       "[902 rows x 5 columns]"
      ]
     },
     "execution_count": 4,
     "metadata": {},
     "output_type": "execute_result"
    }
   ],
   "source": [
    "# add prediction of event file to labels\n",
    "bonobo_all = bonobo_labels.merge(bonobo_pred, on='event_file', how='left')\n",
    "\n",
    "# only look at samples rated by > 8 people\n",
    "ultra_quality_filter = bonobo_pred['total_votes_received']>=8\n",
    "# only look at samples rated rated strong agreement\n",
    "frac_filter = (bonobo_pred['fraction_of_yes'] > 6/8) | (bonobo_pred['fraction_of_yes'] < 2/8)\n",
    "\n",
    "# apply filters\n",
    "bonobo_all = bonobo_pred[ultra_quality_filter & frac_filter]\n",
    "bonobo_all"
   ]
  },
  {
   "cell_type": "code",
   "execution_count": 5,
   "metadata": {},
   "outputs": [],
   "source": [
    "# extract labels and predictions as lists\n",
    "labels = bonobo_all.fraction_of_yes.round(0).astype(int)\n",
    "preds = bonobo_all.preds.values"
   ]
  },
  {
   "cell_type": "code",
   "execution_count": 6,
   "metadata": {},
   "outputs": [],
   "source": [
    "# calculate the roc curve for the model\n",
    "fpr, tpr, thresholds = roc_curve(labels, preds)\n",
    "# calculate the AUC\n",
    "roc_auc = auc(fpr, tpr)"
   ]
  },
  {
   "cell_type": "code",
   "execution_count": 7,
   "metadata": {},
   "outputs": [
    {
     "data": {
      "image/png": "[encoded data removed]",
      "text/plain": [
       "<Figure size 640x480 with 1 Axes>"
      ]
     },
     "metadata": {},
     "output_type": "display_data"
    }
   ],
   "source": [
    "# plot the results\n",
    "\n",
    "# workaround for tresholds are too high\n",
    "thresholds[thresholds>1]=1\n",
    "plt.plot(fpr,tpr,label='ROC curve (AUC = %0.2f)' % roc_auc)\n",
    "plt.plot([0,1], [0, 1], linestyle='--')\n",
    "plt.plot(fpr,thresholds,label='treshhold')\n",
    "plt.xlabel('false positive rate')\n",
    "plt.ylabel('true positive rate / threshold')\n",
    "plt.legend(loc=\"lower right\")\n",
    "plt.title('ROC curve '+model_name)\n",
    "plt.savefig(path_model+'/Results/Easy_AUC.png')"
   ]
  },
  {
   "cell_type": "code",
   "execution_count": 8,
   "metadata": {},
   "outputs": [],
   "source": [
    "# write brier score to text file\n",
    "with open(path_model+'/Results/results.txt', 'a') as f:\n",
    "    f.write('Easy AUC: '+str(roc_auc)+'\\n')"
   ]
  }
 ],
 "metadata": {
  "kernelspec": {
   "display_name": "Python 3 (ipykernel)",
   "language": "python",
   "name": "python3"
  },
  "language_info": {
   "codemirror_mode": {
    "name": "ipython",
    "version": 3
   },
   "file_extension": ".py",
   "mimetype": "text/x-python",
   "name": "python",
   "nbconvert_exporter": "python",
   "pygments_lexer": "ipython3",
   "version": "3.8.17"
  }
 },
 "nbformat": 4,
 "nbformat_minor": 4
}
