{
 "cells": [
  {
   "cell_type": "code",
   "execution_count": 7,
   "metadata": {},
   "outputs": [],
   "source": [
    "import os\n",
    "import pandas as pd\n",
    "import numpy as np"
   ]
  },
  {
   "cell_type": "code",
   "execution_count": 8,
   "metadata": {},
   "outputs": [],
   "source": [
    "# get model path\n",
    "model_name ='SpikeResnet'\n",
    "path_model = os.path.join('..','Backstage',model_name)"
   ]
  },
  {
   "cell_type": "code",
   "execution_count": 19,
   "metadata": {},
   "outputs": [],
   "source": [
    "# load dataframes with predictions and labels\n",
    "import os\n",
    "# get prediction dataframe from Backstage/Model_name\n",
    "bonobo_pred = pd.read_csv(path_model+'/bonobo_pred.csv')\n",
    "# get labels dataframe from Judge\n",
    "path_bonobo_labels = os.path.join('..','Judge','testset_bonobo_events.csv')\n",
    "bonobo_labels = pd.read_csv(path_bonobo_labels)\n"
   ]
  },
  {
   "cell_type": "code",
   "execution_count": 20,
   "metadata": {},
   "outputs": [],
   "source": [
    "# extract labels and predictions as lists\n",
    "labels = bonobo_pred.fraction_of_yes.round(0).astype(int)\n",
    "preds = bonobo_pred.preds.values"
   ]
  },
  {
   "cell_type": "code",
   "execution_count": 21,
   "metadata": {},
   "outputs": [
    {
     "name": "stdout",
     "output_type": "stream",
     "text": [
      "0.17956235781698865\n"
     ]
    }
   ],
   "source": [
    "# calculate the Brier score\n",
    "brier_score = np.mean(np.square(labels-preds))\n",
    "print(brier_score)"
   ]
  },
  {
   "cell_type": "code",
   "execution_count": 22,
   "metadata": {},
   "outputs": [],
   "source": [
    "# write brier score to results file\n",
    "with open(path_model+'/Results/results.txt', 'a') as f:\n",
    "    f.write('Brier_score: '+str(brier_score)+'\\n')"
   ]
  }
 ],
 "metadata": {
  "kernelspec": {
   "display_name": "Python 3 (ipykernel)",
   "language": "python",
   "name": "python3"
  },
  "language_info": {
   "codemirror_mode": {
    "name": "ipython",
    "version": 3
   },
   "file_extension": ".py",
   "mimetype": "text/x-python",
   "name": "python",
   "nbconvert_exporter": "python",
   "pygments_lexer": "ipython3",
   "version": "3.8.17"
  }
 },
 "nbformat": 4,
 "nbformat_minor": 4
}
